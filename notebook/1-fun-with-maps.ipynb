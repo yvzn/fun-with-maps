{
 "cells": [
  {
   "cell_type": "markdown",
   "metadata": {
    "dotnet_interactive": {
     "language": "csharp"
    },
    "polyglot_notebook": {
     "kernelName": "csharp"
    }
   },
   "source": [
    "# Fun with Maps\n",
    "\n",
    "Display random locations on a map and try to find funny shapes in them."
   ]
  },
  {
   "cell_type": "markdown",
   "metadata": {
    "dotnet_interactive": {
     "language": "csharp"
    },
    "polyglot_notebook": {
     "kernelName": "csharp"
    }
   },
   "source": [
    "## Dependencies"
   ]
  },
  {
   "cell_type": "code",
   "execution_count": 45,
   "metadata": {
    "dotnet_interactive": {
     "language": "csharp"
    },
    "vscode": {
     "languageId": "polyglot-notebook"
    }
   },
   "outputs": [],
   "source": [
    "using System.Net.Http;\n",
    "using System.Globalization;\n",
    "using System.IO;\n",
    "\n",
    "using static Microsoft.DotNet.Interactive.Formatting.PocketViewTags;\n",
    "\n",
    "var random = new Random();\n",
    "var httpClient = new HttpClient();"
   ]
  },
  {
   "cell_type": "markdown",
   "metadata": {
    "dotnet_interactive": {
     "language": "csharp"
    },
    "polyglot_notebook": {
     "kernelName": "csharp"
    }
   },
   "source": [
    "## Step 1: Get images from map locations\n",
    "\n",
    "The project will be using using [Azure Maps](https://docs.microsoft.com/en-us/azure/azure-maps/) to retrieve the map images. Images will be stored in the `output/step1` folder.\n",
    "\n",
    "### Configuration\n",
    "\n",
    "Create an [Azure Maps account](https://docs.microsoft.com/en-us/azure/azure-maps/quick-demo-map-app#create-an-azure-maps-account) and get the primary key for that account."
   ]
  },
  {
   "cell_type": "code",
   "execution_count": 46,
   "metadata": {
    "dotnet_interactive": {
     "language": "csharp"
    },
    "vscode": {
     "languageId": "polyglot-notebook"
    }
   },
   "outputs": [],
   "source": [
    "var azureMapsSubscriptionKey = \"<your-subscription-key>\";"
   ]
  },
  {
   "cell_type": "markdown",
   "metadata": {
    "dotnet_interactive": {
     "language": "csharp"
    },
    "polyglot_notebook": {
     "kernelName": "csharp"
    }
   },
   "source": [
    "### Pick random locations\n",
    "\n",
    "Select a random zoom level and a random location ([As per documentation](https://docs.microsoft.com/en-us/rest/api/maps/render/get-map-image))\n",
    "\n",
    "* _Zoom level_ ranges from 0 to 20.\n",
    "* _Longitude_ range: -180 to 180.\n",
    "* _Latitude_ range: -85 to 85."
   ]
  },
  {
   "cell_type": "code",
   "execution_count": 47,
   "metadata": {
    "dotnet_interactive": {
     "language": "csharp"
    },
    "vscode": {
     "languageId": "polyglot-notebook"
    }
   },
   "outputs": [],
   "source": [
    "// actual ranges are slightly different from documentation, to get more interesting results\n",
    "var zoomLevelRange = 5..13;\n",
    "var longitudeRange = 0..180;\n",
    "var latitudeRange = 0..75;"
   ]
  },
  {
   "cell_type": "code",
   "execution_count": 48,
   "metadata": {
    "dotnet_interactive": {
     "language": "csharp"
    },
    "vscode": {
     "languageId": "polyglot-notebook"
    }
   },
   "outputs": [
    {
     "data": {
      "text/html": [
       "<table><thead><tr><th><i>index</i></th><th>ZoomLevel</th><th>Longitude</th><th>Latitude</th></tr></thead><tbody><tr><td>0</td><td><div class=\"dni-plaintext\"><pre>5</pre></div></td><td><div class=\"dni-plaintext\"><pre>-160.3845619085486</pre></div></td><td><div class=\"dni-plaintext\"><pre>-24.474048406297015</pre></div></td></tr><tr><td>1</td><td><div class=\"dni-plaintext\"><pre>8</pre></div></td><td><div class=\"dni-plaintext\"><pre>105.97367188611253</pre></div></td><td><div class=\"dni-plaintext\"><pre>-8.93848494194306</pre></div></td></tr><tr><td>2</td><td><div class=\"dni-plaintext\"><pre>7</pre></div></td><td><div class=\"dni-plaintext\"><pre>-78.42469881663138</pre></div></td><td><div class=\"dni-plaintext\"><pre>51.12085327304665</pre></div></td></tr><tr><td>3</td><td><div class=\"dni-plaintext\"><pre>5</pre></div></td><td><div class=\"dni-plaintext\"><pre>-109.89821323341914</pre></div></td><td><div class=\"dni-plaintext\"><pre>-16.08594134435876</pre></div></td></tr><tr><td>4</td><td><div class=\"dni-plaintext\"><pre>12</pre></div></td><td><div class=\"dni-plaintext\"><pre>-156.1395963098584</pre></div></td><td><div class=\"dni-plaintext\"><pre>-32.738234294870615</pre></div></td></tr><tr><td>5</td><td><div class=\"dni-plaintext\"><pre>9</pre></div></td><td><div class=\"dni-plaintext\"><pre>-90.67766749179623</pre></div></td><td><div class=\"dni-plaintext\"><pre>-59.82605325792625</pre></div></td></tr><tr><td>6</td><td><div class=\"dni-plaintext\"><pre>7</pre></div></td><td><div class=\"dni-plaintext\"><pre>16.61484365251573</pre></div></td><td><div class=\"dni-plaintext\"><pre>65.75746996780518</pre></div></td></tr><tr><td>7</td><td><div class=\"dni-plaintext\"><pre>9</pre></div></td><td><div class=\"dni-plaintext\"><pre>-20.608638642775105</pre></div></td><td><div class=\"dni-plaintext\"><pre>-41.601047126777935</pre></div></td></tr></tbody></table><style>\r\n",
       ".dni-code-hint {\r\n",
       "    font-style: italic;\r\n",
       "    overflow: hidden;\r\n",
       "    white-space: nowrap;\r\n",
       "}\r\n",
       ".dni-treeview {\r\n",
       "    white-space: nowrap;\r\n",
       "}\r\n",
       ".dni-treeview td {\r\n",
       "    vertical-align: top;\r\n",
       "    text-align: start;\r\n",
       "}\r\n",
       "details.dni-treeview {\r\n",
       "    padding-left: 1em;\r\n",
       "}\r\n",
       "table td {\r\n",
       "    text-align: start;\r\n",
       "}\r\n",
       "table tr { \r\n",
       "    vertical-align: top; \r\n",
       "    margin: 0em 0px;\r\n",
       "}\r\n",
       "table tr td pre \r\n",
       "{ \r\n",
       "    vertical-align: top !important; \r\n",
       "    margin: 0em 0px !important;\r\n",
       "} \r\n",
       "table th {\r\n",
       "    text-align: start;\r\n",
       "}\r\n",
       "</style>"
      ]
     },
     "metadata": {},
     "output_type": "display_data"
    }
   ],
   "source": [
    "var numberOfImages = 8;\n",
    "\n",
    "var imageLocations = Enumerable.Range(0, numberOfImages)\n",
    "\t.Select(i => new\n",
    "\t{\n",
    "\t\tZoomLevel = random.Next(zoomLevelRange.Start.Value, zoomLevelRange.End.Value),\n",
    "\t\tLongitude = random.NextDouble() * (2 * longitudeRange.End.Value) - longitudeRange.End.Value,\n",
    "\t\tLatitude = random.NextDouble() * (2 * latitudeRange.End.Value) - latitudeRange.End.Value,\n",
    "\t})\n",
    "\t.ToArray();\n",
    "display(imageLocations);"
   ]
  },
  {
   "cell_type": "markdown",
   "metadata": {
    "dotnet_interactive": {
     "language": "csharp"
    },
    "polyglot_notebook": {
     "kernelName": "csharp"
    }
   },
   "source": [
    "### Build the map API calls"
   ]
  },
  {
   "cell_type": "code",
   "execution_count": 49,
   "metadata": {
    "dotnet_interactive": {
     "language": "csharp"
    },
    "vscode": {
     "languageId": "polyglot-notebook"
    }
   },
   "outputs": [
    {
     "data": {
      "text/html": [
       "<table><thead><tr><th><i>index</i></th><th>value</th></tr></thead><tbody><tr><td>0</td><td>https://atlas.microsoft.com/map/static/png?subscription-key=&lt;OBFUSCATED&gt;&amp;api-version=1.0&amp;width=256&amp;height=256&amp;center=-160.3845619085486,-24.474048406297015&amp;zoom=5</td></tr><tr><td>1</td><td>https://atlas.microsoft.com/map/static/png?subscription-key=&lt;OBFUSCATED&gt;&amp;api-version=1.0&amp;width=256&amp;height=256&amp;center=105.97367188611253,-8.93848494194306&amp;zoom=8</td></tr><tr><td>2</td><td>https://atlas.microsoft.com/map/static/png?subscription-key=&lt;OBFUSCATED&gt;&amp;api-version=1.0&amp;width=256&amp;height=256&amp;center=-78.42469881663138,51.12085327304665&amp;zoom=7</td></tr><tr><td>3</td><td>https://atlas.microsoft.com/map/static/png?subscription-key=&lt;OBFUSCATED&gt;&amp;api-version=1.0&amp;width=256&amp;height=256&amp;center=-109.89821323341914,-16.08594134435876&amp;zoom=5</td></tr><tr><td>4</td><td>https://atlas.microsoft.com/map/static/png?subscription-key=&lt;OBFUSCATED&gt;&amp;api-version=1.0&amp;width=256&amp;height=256&amp;center=-156.1395963098584,-32.738234294870615&amp;zoom=12</td></tr><tr><td>5</td><td>https://atlas.microsoft.com/map/static/png?subscription-key=&lt;OBFUSCATED&gt;&amp;api-version=1.0&amp;width=256&amp;height=256&amp;center=-90.67766749179623,-59.82605325792625&amp;zoom=9</td></tr><tr><td>6</td><td>https://atlas.microsoft.com/map/static/png?subscription-key=&lt;OBFUSCATED&gt;&amp;api-version=1.0&amp;width=256&amp;height=256&amp;center=16.61484365251573,65.75746996780518&amp;zoom=7</td></tr><tr><td>7</td><td>https://atlas.microsoft.com/map/static/png?subscription-key=&lt;OBFUSCATED&gt;&amp;api-version=1.0&amp;width=256&amp;height=256&amp;center=-20.608638642775105,-41.601047126777935&amp;zoom=9</td></tr></tbody></table><style>\r\n",
       ".dni-code-hint {\r\n",
       "    font-style: italic;\r\n",
       "    overflow: hidden;\r\n",
       "    white-space: nowrap;\r\n",
       "}\r\n",
       ".dni-treeview {\r\n",
       "    white-space: nowrap;\r\n",
       "}\r\n",
       ".dni-treeview td {\r\n",
       "    vertical-align: top;\r\n",
       "    text-align: start;\r\n",
       "}\r\n",
       "details.dni-treeview {\r\n",
       "    padding-left: 1em;\r\n",
       "}\r\n",
       "table td {\r\n",
       "    text-align: start;\r\n",
       "}\r\n",
       "table tr { \r\n",
       "    vertical-align: top; \r\n",
       "    margin: 0em 0px;\r\n",
       "}\r\n",
       "table tr td pre \r\n",
       "{ \r\n",
       "    vertical-align: top !important; \r\n",
       "    margin: 0em 0px !important;\r\n",
       "} \r\n",
       "table th {\r\n",
       "    text-align: start;\r\n",
       "}\r\n",
       "</style>"
      ]
     },
     "metadata": {},
     "output_type": "display_data"
    }
   ],
   "source": [
    "var cultureInfo = CultureInfo.InvariantCulture;\n",
    "\n",
    "var baseUri = \"https://atlas.microsoft.com/map/static/png\";\n",
    "var queryParameters = new Dictionary<string, string>\n",
    "{\n",
    "\t{ \"subscription-key\", azureMapsSubscriptionKey },\n",
    "\t{ \"api-version\", \"1.0\" },\n",
    "\t{ \"width\", \"256\" },\n",
    "\t{ \"height\", \"256\" },\n",
    "};\n",
    "\n",
    "var imageUriList = imageLocations\n",
    "\t.Select(location => {\n",
    "\t\tqueryParameters[\"center\"] = $\"{location.Longitude.ToString(cultureInfo)},{location.Latitude.ToString(cultureInfo)}\";\n",
    "\t\tqueryParameters[\"zoom\"] = $\"{location.ZoomLevel}\";\n",
    "\n",
    "\t\treturn new Uri(baseUri + \"?\" + string.Join(\"&\", queryParameters.Select(kvp => $\"{kvp.Key}={kvp.Value}\")));\n",
    "\t})\n",
    "\t.ToArray();\n",
    "\n",
    "display(imageUriList.Select(uri => uri.ToString().Replace(azureMapsSubscriptionKey, \"<OBFUSCATED>\")));\n"
   ]
  },
  {
   "cell_type": "markdown",
   "metadata": {
    "dotnet_interactive": {
     "language": "csharp"
    },
    "polyglot_notebook": {
     "kernelName": "csharp"
    }
   },
   "source": [
    "### Fetch images"
   ]
  },
  {
   "cell_type": "code",
   "execution_count": 50,
   "metadata": {
    "dotnet_interactive": {
     "language": "csharp"
    },
    "vscode": {
     "languageId": "polyglot-notebook"
    }
   },
   "outputs": [],
   "source": [
    "var imageFetchingTasks = imageUriList.Select(uri => \n",
    "\thttpClient.GetAsync(uri).ContinueWith(task => task.Result.Content.ReadAsByteArrayAsync()));\n",
    "var imageTaskResults = await Task.WhenAll(imageFetchingTasks);\n",
    "\n",
    "var images = imageTaskResults.Select(result => result.Result).ToArray();"
   ]
  },
  {
   "cell_type": "code",
   "execution_count": 51,
   "metadata": {
    "dotnet_interactive": {
     "language": "csharp"
    },
    "vscode": {
     "languageId": "polyglot-notebook"
    }
   },
   "outputs": [
    {
     "data": {
      "text/html": [
       "<span><img src=\"data:image/png;base64,iVBORw0KGgoAAAANSUhEUgAAAQAAAAEACAYAAABccqhmAAAABHNCSVQICAgIfAhkiAAADNdJREFUeAHt2mmzHWUVxXE+uC+UDJiRBKq0LBQZRBCZImOYSQiIgAOUpVKUoiJapVWKX6Dtp5O+dG5luDebSuJevxepe9KnT59+9lr9X+ve7jvuefeLyT8z4IFMD9xB+Ezh6f7/r/t33vti+vd/vpze+vRfNxziAKAB3bB5QOTWQuTs7/85ffnlf5d/973/9xvSEQAA4IaM4+K/tRf/Ov8ffPCP6d7Zww98CACMDGY8sE8PaAD7HNhKXj9vjwSkQ00HAAAAqRnsAQAIFl961tKzw/wAAAA0gGAPAECw+B0SzBpqLQYAAEADCPYAAASLLz1r6dlhfgAAABpAsAcAIFj8DglmDbUWAwAAoAEEewAAgsWXnrX07DA/AAAADSDYAwAQLH6HBLOGWosBAADQAII9AADB4kvPWnp2mB8AAIAGEOwBAAgWv0OCWUOtxQAAAGgAwR4AgGDxpWctPTvMDwAAQAMI9gAABIvfIcGsodZiAAAANIBgDwBAsPjSs5aeHeYHAACgAQR7AACCxe+QYNZQazEAAAAaQLAHACBYfOlZS88O8wMAANAAgj0AAMHid0gwa6i1GAAAAA0g2AMAECy+9KylZ4f5AQAAaADBHgCAYPE7JJg11FoMAACABhDsAQAIFl961tKzw/wAAAA0gGAPAECw+B0SzBpqLQYAAEADCPYAAASLLz1r6dlhfgAAABpAsAcAIFj8DglmDbUWAwAAoAEEewAAgsWXnrX07DA/AAAADSDYAwAQLH6HBLOGWosBAADQAII9AADB4kvPWnp2mB8AAIAGEOwBAAgWv0OCWUOtxQAAAGgAwR4AgGDxpWctPTvMDwAAQAMI9gAABIvfIcGsodZiAAAANIBgDwBAsPjSs5aeHeYHAACgAQR7AACCxe+QYNZQazEAAAAaQLAHACBYfOlZS88O8wMAANAAgj0AAMHid0gwa6i1GAAAAA0g2AMAECy+9KylZ4f5AQAAaADBHgCAYPE7JJg11FoMAACABhDsAQAIFl961tKzw/wAAAA0gGAPAECw+B0SzBpqLQYAAEADCPYAAASLLz1r6dlhfgAAABpAsAcAIFj8DglmDbUWAwAAoAEEewAAgsWXnrX07DA/AAAADSDYAwAQLH6HBLOGWosBAADQAII9AADB4kvPWnp2mB8AAIAGEOwBAAgWv0OCWUOtxQAAAGgAwR4AgGDxpWctPTvMDwAAQAMI9gAABIvfIcGsodZiAAAANIBgDwBAsPjSs5aeHeYHAACgAQR7AACCxe+QYNZQazEAAAAaQLAHACBYfOlZS88O8wMAANAAgj0AAMHid0gwa6i1GAAAAA0g2AMAECy+9KylZ4f5AQAAaADBHgCAYPE7JJg11FoMAACABhDsAQAIFl961tKzw/wAAAA0gGAPAECw+B0SzBpqLQYAAEADCPYAAASLLz1r6dlhfgAAABpAsAcAIFj8DglmDbUWAwAAoAEEewAAgsWXnrX07DA/AAAADSDYAwAQLH6HBLOGWosBAADQAII9AADB4kvPWnp2mB8AAIAGEOwBAAgWv0OCWUOtxQAAAGgAwR4AgGDxpWctPTvMDwAAQAMI9gAABIvfIcGsodZiAAAANIBgDwBAsPjSs5aeHeYHAACgAQR7AACCxe+QYNZQazEAAAAaQLAHACBYfOlZS88O8wMAANAAgj0AAMHid0gwa6i1GAAAAA0g2AMAECy+9KylZ4f5AQAAaADBHgCAYPE7JJg11FoMAACABhDsAQAIFl961tKzw/wAAAA0gGAPAECw+B0SzBpqLQYAAEADCPYAAASLLz1r6dlhfgAAABpAsAcAIFj8DglmDbUWAwAAoAEEewAAgsWXnrX07DA/AAAADSDYAwAQLH6HBLOGWosBAADQAII9AADB4kvPWnp2mB8AAIAGEOwBAAgWv0OCWUOtxQAAAGgAwR4AgGDxpWctPTvMDwAAQAMI9gAABIvfIcGsodZiAAAANIBgDwBAsPjSs5aeHeYHAACgAQR7AACCxe+QYNZQazEAAAAaQLAHACBYfOlZS88O8wMAANAAgj0AAMHid0gwa6i1GAAAAA0g2AMAECy+9KylZ4f5AQAAaADBHgCAYPE7JJg11FoMAACABhDsAQAIFl961tKzw/wAAAA0gGAPAECw+B0SzBpqLQYAAEADCPYAAASLLz1r6dlhfgAAABpAsAcAIFj8DglmDbUWAwAAoAEEewAAgsWXnrX07DA/AAAADSDYAwAQLH6HBLOGWosBAADQAII9AADB4kvPWnp2mB8AAIAGEOwBAAgWv0OCWUOtxQAAAGgAwR4AgGDxpWctPTvMDwAAQAMI9gAABIvfIcGsodZiAAAANIBgDwBAsPjSs5aeHeYHAACgAQR7AACCxe+QYNZQazEAAAAaQLAHACBYfOlZS88O8wMAANAAgj0AAMHid0gwa6i1GAAAAA0g2AMAECy+9KylZ4f5AQAAaADBHgCAYPE7JJg11FoMAACABhDsAQAIFl961tKzw/wAAAA0gGAPAECw+B0SzBpqLQYAAEADCPYAAASLLz1r6dlhfgAAABpAsAcAIFj8DglmDbUWAwAAoAEEewAAgsWXnrX07DA/AAAADSDYAwAQLH6HBLOGWosBAADQAII9AADB4kvPWnp2mB8AAIAGEOwBAAgWv0OCWUOtxQAAAGgAwR4AgGDxpWctPTvMDwAAQAMI9gAABIvfIcGsodZiAAAANIBgDwBAsPjSs5aeHeYHAACgAQR7AACCxe+QYNZQazEAAAAaQLAHACBYfOlZS88O8wMAANAAgj0AAMHid0gwa6i1GAAAAA0g2AMAECy+9KylZ4f5AQAAaADBHgCAYPE7JJg11FoMAACABhDsAQAIFl961tKzw/wAAAA0gGAPAECw+B0SzBpqLQYAAEADCPYAAASL3yY93/nbdOz5D5d/d7/xyXT8hV9Ndz326nT67b9MJ17+7fL61PnPLtu+3WfM4eiZn0+nzv1pgeGRp96ej/XLfYPxxNmPl3M49dYfdz47zuGun7w6ffunb+xsu9G5r8c9/uKvy8dazwEAAOBrM9Nqqpv989hzH0x3Pf76dOSp89OxZ38xnb7w1+nESx8trw898uJ0+vyfLwJhs327zzjfQw8/v1yo44L9xrF7p3HME6/M8Jgv3qNn3lsAMWBy+NGXp5Pz9vH+kacvLIBZt33re49O4+L85ncfWX4ux/3RC8v3j9e7Pz+gs5z7Y69MJ85+dMX3B1TG2u6ZIbced8Br97GWc3jtD/vWEgAAYN+mudkX+PW+b6T/oXGhzRfvuDhOvv7JdPiRl+aL5vNpAGB8/vCPz053v/npzvbt6+X9ef+xz0jqQw8/twDh4IM/Wz578IFnlgvw4EPPXfz/vH1ccOPi3b1tPdZ6zuO81tfbfXeO+cCZi8d86NnLjrW+P4By4IdPz4D4+OK5j7XM53rZsR6cjzEDYlnzPv0MAPsc2Cqmn7U/Pn2d8zs5J99IyYPzRXTs2fenO+97fE7u15YEPzyn6/g3LqTt9u3rcS7j4hm/Phy4/6m5LbyyAGDAYxxntIN1n/He2Hb0mXenO7//xPK5dduAwthvnMvxl36zvB4tYQHLE+cu33cAat73wP1PLtAZv7KMc9g51qX3x5rGOY3zX4879rvSvmPbOOZ+/gHAPge2n+Had39mrM5rNIArHeP0hc+vuP1K++7etvuz41eHZZ+5XYzUHa93tm29dOm9i+9/9f279x0X7fY7dr+/fMfmWOt3XvV7t+ewh9cAsIchLYLb74YvIvO7OgjXPzzeqhkBgAvbhR3sAQAIFv9WpY7vvXojuNmzAQAAyG4A8+/X22cIxi3DI0+eX2YybiWOP/iNbdvXu58hGBftdttenz1Y7jjMdwnGZ6914e91v2sd42rvAQAAXNN8VzNOl+3LffjNMwQnX/3dcktxrG/nGYL5WYDt6/GHuvU5g3UO2207+46HkTb7bl+vn1v/cn/Zff35Tsa4G3DkmXfmOwRvLvrsdb/1uHv9CQAAkA2AXc8QjL/Ir7fzxq2+cett/H/7evsMwUjv4/NTg9ttAwDjArzeswfLPju3+756xmDc+jt17rMFRDvH2uN+e73w1/0AAACiAbD7GYLlorx0P39c3OMCvHt+sGj7evczBOMz2217ffZg+a5LF/ZI+O0zAANE4/8rjNYGcK39rverxHrRb38CAABEA2C9GK74DMG4/77eg9++3oNntvf21++43s/xK8L19hnvX3W/9Vz3cH7r9wDAPoa1Ds3P2+ev2LSoaQEAALCn1HGh1S6023V+AAAAABDsAQAIFv92TSXndfPaBgAAgAYQ7AEACBZf0t68pL1dZw0AAKABBHsAAILFv11TyXndvGbyPzQN1to1emaAAAAAAElFTkSuQmCC\"></img></span>&nbsp; <span><img src=\"data:image/png;base64,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\"></img></span>&nbsp; <span><img src=\"data:image/png;base64,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\"></img></span>&nbsp; <span><img src=\"data:image/png;base64,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\"></img></span>&nbsp; <span><img src=\"data:image/png;base64,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\"></img></span>&nbsp; <span><img src=\"data:image/png;base64,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\"></img></span>&nbsp; <span><img src=\"data:image/png;base64,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\"></img></span>&nbsp; <span><img src=\"data:image/png;base64,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\"></img></span>"
      ]
     },
     "metadata": {},
     "output_type": "display_data"
    }
   ],
   "source": [
    "display(\n",
    "\tHTML(\n",
    "\t\tstring.Join(\"&nbsp; \", images.Select(image => \n",
    "\t\t\tspan(\n",
    "\t\t\t\timg[src: \"data:image/png;base64,\" + Convert.ToBase64String(image)]\n",
    "\t\t\t)))\n",
    "\t)\n",
    ");"
   ]
  },
  {
   "cell_type": "markdown",
   "metadata": {
    "dotnet_interactive": {
     "language": "csharp"
    },
    "polyglot_notebook": {
     "kernelName": "csharp"
    }
   },
   "source": [
    "## Store images on disk"
   ]
  },
  {
   "cell_type": "code",
   "execution_count": 52,
   "metadata": {
    "dotnet_interactive": {
     "language": "csharp"
    },
    "vscode": {
     "languageId": "polyglot-notebook"
    }
   },
   "outputs": [],
   "source": [
    "var imageFolder = \"output/step1\";\n",
    "\n",
    "var imageFileNames = imageLocations\n",
    "\t.Select(location => $\"{imageFolder}/{location.ZoomLevel}__{location.Longitude.ToString(cultureInfo)}__{location.Latitude.ToString(cultureInfo)}.png\");\n",
    "\n",
    "imageFileNames\n",
    "\t.Zip(images, (fileName, image) => new { \n",
    "\t\tFileName = fileName,\n",
    "\t\tImage = image\n",
    "\t})\n",
    "\t.ToList()\n",
    "\t.ForEach(image => File.WriteAllBytes(image.FileName, image.Image));"
   ]
  }
 ],
 "metadata": {
  "kernelspec": {
   "display_name": ".NET (C#)",
   "language": "C#",
   "name": ".net-csharp"
  },
  "polyglot_notebook": {
   "kernelInfo": {
    "defaultKernelName": "csharp",
    "items": [
     {
      "aliases": [
       "c#",
       "C#"
      ],
      "languageName": "C#",
      "name": "csharp"
     },
     {
      "aliases": [],
      "name": ".NET"
     },
     {
      "aliases": [
       "f#",
       "F#"
      ],
      "languageName": "F#",
      "name": "fsharp"
     },
     {
      "aliases": [],
      "languageName": "HTML",
      "name": "html"
     },
     {
      "aliases": [],
      "languageName": "KQL",
      "name": "kql"
     },
     {
      "aliases": [],
      "languageName": "Mermaid",
      "name": "mermaid"
     },
     {
      "aliases": [
       "powershell"
      ],
      "languageName": "PowerShell",
      "name": "pwsh"
     },
     {
      "aliases": [],
      "languageName": "SQL",
      "name": "sql"
     },
     {
      "aliases": [],
      "name": "value"
     },
     {
      "aliases": [
       "frontend"
      ],
      "name": "vscode"
     }
    ]
   }
  }
 },
 "nbformat": 4,
 "nbformat_minor": 2
}
