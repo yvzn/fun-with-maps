{
 "cells": [
  {
   "cell_type": "markdown",
   "metadata": {
    "dotnet_interactive": {
     "language": "csharp"
    },
    "polyglot_notebook": {
     "kernelName": "csharp"
    }
   },
   "source": [
    "# Fun with maps, part 2\n",
    "\n",
    "After some map images have been picked from random locations in the map service, we can filter out images that are not in the area of interest."
   ]
  },
  {
   "cell_type": "markdown",
   "metadata": {
    "dotnet_interactive": {
     "language": "csharp"
    },
    "polyglot_notebook": {
     "kernelName": "csharp"
    }
   },
   "source": [
    "## Dependencies"
   ]
  },
  {
   "cell_type": "code",
   "execution_count": 1,
   "metadata": {
    "dotnet_interactive": {
     "language": "csharp"
    },
    "polyglot_notebook": {
     "kernelName": "csharp"
    },
    "vscode": {
     "languageId": "polyglot-notebook"
    }
   },
   "outputs": [
    {
     "data": {
      "text/html": [
       "<div><div></div><div></div><div><strong>Installed Packages</strong><ul><li><span>SixLabors.ImageSharp, 2.1.3</span></li></ul></div></div>"
      ]
     },
     "metadata": {},
     "output_type": "display_data"
    }
   ],
   "source": [
    "#r \"nuget: SixLabors.ImageSharp\""
   ]
  },
  {
   "cell_type": "code",
   "execution_count": 2,
   "metadata": {
    "dotnet_interactive": {
     "language": "csharp"
    },
    "vscode": {
     "languageId": "polyglot-notebook"
    }
   },
   "outputs": [],
   "source": [
    "using System.IO;\n",
    "using SixLabors.ImageSharp;\n",
    "using SixLabors.ImageSharp.PixelFormats;\n",
    "\n",
    "using static Microsoft.DotNet.Interactive.Formatting.PocketViewTags;\n",
    "\n",
    "var random = new Random();"
   ]
  },
  {
   "cell_type": "markdown",
   "metadata": {
    "dotnet_interactive": {
     "language": "csharp"
    },
    "polyglot_notebook": {
     "kernelName": "csharp"
    }
   },
   "source": [
    "## Step 2: Filter images\n",
    "\n",
    "Remove _mostly blank_ images. Relevant images will be stored in the `output/step2` folder.\n",
    "\n",
    "### List of images from Step 1"
   ]
  },
  {
   "cell_type": "code",
   "execution_count": 2,
   "metadata": {
    "dotnet_interactive": {
     "language": "csharp"
    },
    "vscode": {
     "languageId": "polyglot-notebook"
    }
   },
   "outputs": [
    {
     "data": {
      "text/plain": [
       "48 source images found, displaying name of first 10"
      ]
     },
     "metadata": {},
     "output_type": "display_data"
    },
    {
     "data": {
      "text/html": [
       "<table><thead><tr><th><i>index</i></th><th>value</th></tr></thead><tbody><tr><td>0</td><td>output/step1/8__65.32437079112131__-27.843458928963436.png</td></tr><tr><td>1</td><td>output/step1/10__-79.87959970701282__52.86074055347461.png</td></tr><tr><td>2</td><td>output/step1/7__-44.09199878518183__-10.70419321897623.png</td></tr><tr><td>3</td><td>output/step1/12__-156.1395963098584__-32.738234294870615.png</td></tr><tr><td>4</td><td>output/step1/10__-64.55468161335037__-2.9182961324561205.png</td></tr><tr><td>5</td><td>output/step1/8__170.64838531656648__-67.95677635993266.png</td></tr><tr><td>6</td><td>output/step1/7__16.61484365251573__65.75746996780518.png</td></tr><tr><td>7</td><td>output/step1/12__-51.66772028009447__-41.40776112006163.png</td></tr><tr><td>8</td><td>output/step1/8__-116.12267212017139__-4.6876423730384715.png</td></tr><tr><td>9</td><td>output/step1/8__147.337666463444__2.2770515275757077.png</td></tr></tbody></table><style>\r\n",
       ".dni-code-hint {\r\n",
       "    font-style: italic;\r\n",
       "    overflow: hidden;\r\n",
       "    white-space: nowrap;\r\n",
       "}\r\n",
       ".dni-treeview {\r\n",
       "    white-space: nowrap;\r\n",
       "}\r\n",
       ".dni-treeview td {\r\n",
       "    vertical-align: top;\r\n",
       "    text-align: start;\r\n",
       "}\r\n",
       "details.dni-treeview {\r\n",
       "    padding-left: 1em;\r\n",
       "}\r\n",
       "table td {\r\n",
       "    text-align: start;\r\n",
       "}\r\n",
       "table tr { \r\n",
       "    vertical-align: top; \r\n",
       "    margin: 0em 0px;\r\n",
       "}\r\n",
       "table tr td pre \r\n",
       "{ \r\n",
       "    vertical-align: top !important; \r\n",
       "    margin: 0em 0px !important;\r\n",
       "} \r\n",
       "table th {\r\n",
       "    text-align: start;\r\n",
       "}\r\n",
       "</style>"
      ]
     },
     "metadata": {},
     "output_type": "display_data"
    }
   ],
   "source": [
    "var sourceImageFolder = \"output/step1\";\n",
    "\n",
    "var sourceImages = Directory.GetFiles(sourceImageFolder).Where(file => file.EndsWith(\"png\")).ToList();\n",
    "\n",
    "display($\"{sourceImages.Count} source images found, displaying name of first 10\");\n",
    "display(sourceImages.Take(10));"
   ]
  },
  {
   "attachments": {},
   "cell_type": "markdown",
   "metadata": {
    "dotnet_interactive": {
     "language": "csharp"
    },
    "polyglot_notebook": {
     "kernelName": "csharp"
    }
   },
   "source": [
    "### Read pixel values from image\n",
    "\n",
    "Use the _ImageSharp_ library to read pixel values from image ( [source code](https://github.com/SixLabors/ImageSharp) ).\n",
    "\n",
    "Other alternatives include _SkiaSharp_ or `System.Drawing.Bitmap`, as suggested in [this article](https://devblogs.microsoft.com/dotnet/net-core-image-processing/)."
   ]
  },
  {
   "cell_type": "code",
   "execution_count": 6,
   "metadata": {
    "dotnet_interactive": {
     "language": "csharp"
    },
    "vscode": {
     "languageId": "polyglot-notebook"
    }
   },
   "outputs": [],
   "source": [
    "var someImage = sourceImages.Skip(random.Next(sourceImages.Count)).First();\n",
    "\n",
    "IEnumerable<Rgba32> GetColors(Image<Rgba32> bitmap)\n",
    "{\n",
    "\tfor (int x = 0; x < bitmap.Width; x++)\n",
    "\t{\n",
    "\t\tfor (int y = 0; y < bitmap.Height; y++)\n",
    "\t\t{\n",
    "\t\t\tyield return bitmap[x, y];\n",
    "\t\t}\n",
    "\t}\n",
    "}\n",
    "\n",
    "(IEnumerable<byte> reds, IEnumerable<byte> greens, IEnumerable<byte> blues) GetColorChannels(IEnumerable<Rgba32> colors)\n",
    "{\n",
    "\tvar list = colors.ToList();\n",
    "\tvar reds = list.Select(color => color.R);\n",
    "\tvar greens = list.Select(color => color.G);\n",
    "\tvar blues = list.Select(color => color.B);\n",
    "\n",
    "\treturn (reds, greens, blues);\n",
    "}\n",
    "\n",
    "IEnumerable<byte> reds;\n",
    "IEnumerable<byte> greens;\n",
    "IEnumerable<byte> blues;\n",
    "\n",
    "using (var bitmap = Image.Load<Rgba32>(someImage)) {\n",
    "\t(reds, greens, blues) = GetColorChannels(GetColors(bitmap));\n",
    "}\n"
   ]
  },
  {
   "cell_type": "code",
   "execution_count": 7,
   "metadata": {
    "dotnet_interactive": {
     "language": "csharp"
    },
    "vscode": {
     "languageId": "polyglot-notebook"
    }
   },
   "outputs": [
    {
     "data": {
      "text/html": [
       "<table><caption>output/step1/12__-91.97225428923579__2.4031960631099025.png</caption><tr><td rowspan=\"3\"><img src=\"data:image/png;base64,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\" width=\"50%\"></img></td><td>Reds: 146, 146, 146, 146, 146, 146, 146, 146, 146, 146...</td></tr><tr><td>Blues: 230, 230, 230, 230, 230, 230, 230, 230, 230, 230...</td></tr><tr><td>Greens: 199, 199, 199, 199, 199, 199, 199, 199, 199, 199...</td></tr></table>"
      ]
     },
     "metadata": {},
     "output_type": "display_data"
    }
   ],
   "source": [
    "display(\n",
    "\ttable(\n",
    "\t\tcaption(someImage),\n",
    "\t\ttr(\n",
    "\t\t\ttd[rowspan: 3](img[src: \"data:image/png;base64,\" + Convert.ToBase64String(File.ReadAllBytes(someImage)), width: \"50%\"]),\n",
    "\t\t\ttd($\"Reds: {string.Join(\", \", reds.Take(10))}...\")\n",
    "\t\t),\n",
    "\t\ttr(\n",
    "\t\t\ttd($\"Blues: {string.Join(\", \", blues.Take(10))}...\")\n",
    "\t\t),\n",
    "\t\ttr(\n",
    "\t\t\ttd($\"Greens: {string.Join(\", \", greens.Take(10))}...\")\n",
    "\t\t)\n",
    "\t)\n",
    ")"
   ]
  },
  {
   "cell_type": "markdown",
   "metadata": {
    "dotnet_interactive": {
     "language": "csharp"
    },
    "polyglot_notebook": {
     "kernelName": "csharp"
    }
   },
   "source": [
    "### Detect _mostly blank_ images\n",
    "\n",
    "We can use the standard deviation of all three color channels to detect _mostly blank_ images. Mostly uniform images will have a standard deviation close to 0 for all color channels. This method is not perfect, but has the advantage to handle compression artifacts well (compression can cause small variations on very similar colors)."
   ]
  },
  {
   "cell_type": "markdown",
   "metadata": {
    "dotnet_interactive": {
     "language": "csharp"
    },
    "polyglot_notebook": {
     "kernelName": "csharp"
    }
   },
   "source": [
    ".NET Core does not come with a standard deviation function, so we use an implementation based on [this approach](https://www.strchr.com/standard_deviation_in_one_pass) and [this StackOverflow](https://stackoverflow.com/a/19370637) answer."
   ]
  },
  {
   "cell_type": "code",
   "execution_count": 8,
   "metadata": {
    "dotnet_interactive": {
     "language": "csharp"
    },
    "vscode": {
     "languageId": "polyglot-notebook"
    }
   },
   "outputs": [],
   "source": [
    "double std_var (byte[] a) {\n",
    "\tif (a.Length == 0) return 0;\n",
    "\tdouble sum = 0;\n",
    "\tdouble sq_sum = 0;\n",
    "\tfor(int i = 0; i < a.Length; ++i) {\n",
    "\t\tint ai = a[i];\n",
    "\t\tsum += ai;\n",
    "\t\tsq_sum += ai * ai;\n",
    "\t}\n",
    "\tdouble N = a.Length;\n",
    "\treturn (N * sq_sum - sum * sum) / (N * N);\n",
    "}"
   ]
  },
  {
   "cell_type": "markdown",
   "metadata": {
    "dotnet_interactive": {
     "language": "csharp"
    },
    "polyglot_notebook": {
     "kernelName": "csharp"
    }
   },
   "source": [
    "Actually it is the variance that is being computed, but this will perfectly do in this case (the standard deviation is the square root of the variance)."
   ]
  },
  {
   "cell_type": "code",
   "execution_count": 10,
   "metadata": {
    "dotnet_interactive": {
     "language": "csharp"
    },
    "vscode": {
     "languageId": "polyglot-notebook"
    }
   },
   "outputs": [
    {
     "data": {
      "text/html": [
       "<table><tr><td rowspan=\"3\"><img src=\"data:image/png;base64,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\" width=\"50%\"></img></td><td>Red variance</td><td><div class=\"dni-plaintext\"><pre>0.5238069137558341</pre></div></td></tr><tr><td>Blue variance</td><td><div class=\"dni-plaintext\"><pre>7.325067147612572</pre></div></td></tr><tr><td>Green variance</td><td><div class=\"dni-plaintext\"><pre>3.910941540263593</pre></div></td></tr></table><style>\r\n",
       ".dni-code-hint {\r\n",
       "    font-style: italic;\r\n",
       "    overflow: hidden;\r\n",
       "    white-space: nowrap;\r\n",
       "}\r\n",
       ".dni-treeview {\r\n",
       "    white-space: nowrap;\r\n",
       "}\r\n",
       ".dni-treeview td {\r\n",
       "    vertical-align: top;\r\n",
       "    text-align: start;\r\n",
       "}\r\n",
       "details.dni-treeview {\r\n",
       "    padding-left: 1em;\r\n",
       "}\r\n",
       "table td {\r\n",
       "    text-align: start;\r\n",
       "}\r\n",
       "table tr { \r\n",
       "    vertical-align: top; \r\n",
       "    margin: 0em 0px;\r\n",
       "}\r\n",
       "table tr td pre \r\n",
       "{ \r\n",
       "    vertical-align: top !important; \r\n",
       "    margin: 0em 0px !important;\r\n",
       "} \r\n",
       "table th {\r\n",
       "    text-align: start;\r\n",
       "}\r\n",
       "</style>"
      ]
     },
     "metadata": {},
     "output_type": "display_data"
    },
    {
     "data": {
      "text/html": [
       "<table><tr><td rowspan=\"3\"><img src=\"data:image/png;base64,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\" width=\"50%\"></img></td><td>Red variance</td><td><div class=\"dni-plaintext\"><pre>564.3996359405573</pre></div></td></tr><tr><td>Blue variance</td><td><div class=\"dni-plaintext\"><pre>206.62082151859067</pre></div></td></tr><tr><td>Green variance</td><td><div class=\"dni-plaintext\"><pre>332.358406154206</pre></div></td></tr></table><style>\r\n",
       ".dni-code-hint {\r\n",
       "    font-style: italic;\r\n",
       "    overflow: hidden;\r\n",
       "    white-space: nowrap;\r\n",
       "}\r\n",
       ".dni-treeview {\r\n",
       "    white-space: nowrap;\r\n",
       "}\r\n",
       ".dni-treeview td {\r\n",
       "    vertical-align: top;\r\n",
       "    text-align: start;\r\n",
       "}\r\n",
       "details.dni-treeview {\r\n",
       "    padding-left: 1em;\r\n",
       "}\r\n",
       "table td {\r\n",
       "    text-align: start;\r\n",
       "}\r\n",
       "table tr { \r\n",
       "    vertical-align: top; \r\n",
       "    margin: 0em 0px;\r\n",
       "}\r\n",
       "table tr td pre \r\n",
       "{ \r\n",
       "    vertical-align: top !important; \r\n",
       "    margin: 0em 0px !important;\r\n",
       "} \r\n",
       "table th {\r\n",
       "    text-align: start;\r\n",
       "}\r\n",
       "</style>"
      ]
     },
     "metadata": {},
     "output_type": "display_data"
    },
    {
     "data": {
      "text/html": [
       "<table><tr><td rowspan=\"3\"><img src=\"data:image/png;base64,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\" width=\"50%\"></img></td><td>Red variance</td><td><div class=\"dni-plaintext\"><pre>74.44604207924567</pre></div></td></tr><tr><td>Blue variance</td><td><div class=\"dni-plaintext\"><pre>177.7390734681394</pre></div></td></tr><tr><td>Green variance</td><td><div class=\"dni-plaintext\"><pre>40.2507464280352</pre></div></td></tr></table><style>\r\n",
       ".dni-code-hint {\r\n",
       "    font-style: italic;\r\n",
       "    overflow: hidden;\r\n",
       "    white-space: nowrap;\r\n",
       "}\r\n",
       ".dni-treeview {\r\n",
       "    white-space: nowrap;\r\n",
       "}\r\n",
       ".dni-treeview td {\r\n",
       "    vertical-align: top;\r\n",
       "    text-align: start;\r\n",
       "}\r\n",
       "details.dni-treeview {\r\n",
       "    padding-left: 1em;\r\n",
       "}\r\n",
       "table td {\r\n",
       "    text-align: start;\r\n",
       "}\r\n",
       "table tr { \r\n",
       "    vertical-align: top; \r\n",
       "    margin: 0em 0px;\r\n",
       "}\r\n",
       "table tr td pre \r\n",
       "{ \r\n",
       "    vertical-align: top !important; \r\n",
       "    margin: 0em 0px !important;\r\n",
       "} \r\n",
       "table th {\r\n",
       "    text-align: start;\r\n",
       "}\r\n",
       "</style>"
      ]
     },
     "metadata": {},
     "output_type": "display_data"
    },
    {
     "data": {
      "text/html": [
       "<table><tr><td rowspan=\"3\"><img src=\"data:image/png;base64,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\" width=\"50%\"></img></td><td>Red variance</td><td><div class=\"dni-plaintext\"><pre>0.5238069137558341</pre></div></td></tr><tr><td>Blue variance</td><td><div class=\"dni-plaintext\"><pre>7.325067147612572</pre></div></td></tr><tr><td>Green variance</td><td><div class=\"dni-plaintext\"><pre>3.910941540263593</pre></div></td></tr></table><style>\r\n",
       ".dni-code-hint {\r\n",
       "    font-style: italic;\r\n",
       "    overflow: hidden;\r\n",
       "    white-space: nowrap;\r\n",
       "}\r\n",
       ".dni-treeview {\r\n",
       "    white-space: nowrap;\r\n",
       "}\r\n",
       ".dni-treeview td {\r\n",
       "    vertical-align: top;\r\n",
       "    text-align: start;\r\n",
       "}\r\n",
       "details.dni-treeview {\r\n",
       "    padding-left: 1em;\r\n",
       "}\r\n",
       "table td {\r\n",
       "    text-align: start;\r\n",
       "}\r\n",
       "table tr { \r\n",
       "    vertical-align: top; \r\n",
       "    margin: 0em 0px;\r\n",
       "}\r\n",
       "table tr td pre \r\n",
       "{ \r\n",
       "    vertical-align: top !important; \r\n",
       "    margin: 0em 0px !important;\r\n",
       "} \r\n",
       "table th {\r\n",
       "    text-align: start;\r\n",
       "}\r\n",
       "</style>"
      ]
     },
     "metadata": {},
     "output_type": "display_data"
    },
    {
     "data": {
      "text/html": [
       "<table><tr><td rowspan=\"3\"><img src=\"data:image/png;base64,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\" width=\"50%\"></img></td><td>Red variance</td><td><div class=\"dni-plaintext\"><pre>161.92358016967773</pre></div></td></tr><tr><td>Blue variance</td><td><div class=\"dni-plaintext\"><pre>153.21880346443504</pre></div></td></tr><tr><td>Green variance</td><td><div class=\"dni-plaintext\"><pre>144.5286188935861</pre></div></td></tr></table><style>\r\n",
       ".dni-code-hint {\r\n",
       "    font-style: italic;\r\n",
       "    overflow: hidden;\r\n",
       "    white-space: nowrap;\r\n",
       "}\r\n",
       ".dni-treeview {\r\n",
       "    white-space: nowrap;\r\n",
       "}\r\n",
       ".dni-treeview td {\r\n",
       "    vertical-align: top;\r\n",
       "    text-align: start;\r\n",
       "}\r\n",
       "details.dni-treeview {\r\n",
       "    padding-left: 1em;\r\n",
       "}\r\n",
       "table td {\r\n",
       "    text-align: start;\r\n",
       "}\r\n",
       "table tr { \r\n",
       "    vertical-align: top; \r\n",
       "    margin: 0em 0px;\r\n",
       "}\r\n",
       "table tr td pre \r\n",
       "{ \r\n",
       "    vertical-align: top !important; \r\n",
       "    margin: 0em 0px !important;\r\n",
       "} \r\n",
       "table th {\r\n",
       "    text-align: start;\r\n",
       "}\r\n",
       "</style>"
      ]
     },
     "metadata": {},
     "output_type": "display_data"
    }
   ],
   "source": [
    "var randomImages = sourceImages.OrderBy(file => random.Next()).Take(5);\n",
    "\n",
    "var imagesWithVariance = randomImages\n",
    "\t.Select(imageFile => {\n",
    "\t\tvar colorChannels = GetColorChannels(GetColors(Image.Load<Rgba32>(imageFile)));\n",
    "\t\treturn new {\n",
    "\t\t\tfile = imageFile,\n",
    "\t\t\tredVariance = std_var(colorChannels.reds.ToArray()),\n",
    "\t\t\tgreenVariance = std_var(colorChannels.greens.ToArray()),\n",
    "\t\t\tblueVariance = std_var(colorChannels.blues.ToArray())\n",
    "\t\t};\n",
    "\t});\n",
    "\n",
    "imagesWithVariance.ToList().ForEach(\n",
    "\timage => display(\n",
    "\t\ttable(\n",
    "\t\t\ttr(\n",
    "\t\t\t\ttd[rowspan: 3](img[src: \"data:image/png;base64,\" + Convert.ToBase64String(File.ReadAllBytes(image.file)), width: \"50%\"]),\n",
    "\t\t\t\ttd(\"Red variance\"),\n",
    "\t\t\t\ttd(image.redVariance)\n",
    "\t\t\t),\n",
    "\t\t\ttr(\n",
    "\t\t\t\ttd(\"Blue variance\"),\n",
    "\t\t\t\ttd(image.blueVariance)\n",
    "\t\t\t),\n",
    "\t\t\ttr(\n",
    "\t\t\t\ttd(\"Green variance\"),\n",
    "\t\t\t\ttd(image.greenVariance)\n",
    "\t\t\t)\n",
    "\t\t)\n",
    "\t));"
   ]
  },
  {
   "cell_type": "markdown",
   "metadata": {
    "dotnet_interactive": {
     "language": "csharp"
    },
    "polyglot_notebook": {
     "kernelName": "csharp"
    }
   },
   "source": [
    "### Save filtered images\n",
    "\n",
    "If all three color channels have a variance below a defined threshold, the image is _mostly blank_ and can be discarded.\n",
    "\n",
    "The threshold is somewhat arbitrary, but it seems to work well given the source data and considering that\n",
    "- it is compared against the variance of each channel\n",
    "- there is a small watermark at the bottom right of each image"
   ]
  },
  {
   "cell_type": "code",
   "execution_count": 12,
   "metadata": {
    "dotnet_interactive": {
     "language": "csharp"
    },
    "vscode": {
     "languageId": "polyglot-notebook"
    }
   },
   "outputs": [],
   "source": [
    "var outputImageFolder = \"output/step2\";\n",
    "var threshold = 10d;\n",
    "\n",
    "public bool IsBlank(string imageFile, double threshold) {\n",
    "\tvar colorChannels = GetColorChannels(GetColors(Image.Load<Rgba32>(imageFile)));\n",
    "\treturn new [] { colorChannels.reds, colorChannels.greens, colorChannels.blues }\n",
    "\t\t.All(channel => std_var(channel.ToArray()) < threshold);\n",
    "}\n",
    "\n",
    "sourceImages\n",
    "\t.Where(imageFile => !IsBlank(imageFile, threshold))\n",
    "\t.ToList()\n",
    "\t.ForEach(\n",
    "\t\timageFile => File.Copy(imageFile, Path.Combine(outputImageFolder, Path.GetFileName(imageFile)), overwrite: true)\n",
    "\t);"
   ]
  }
 ],
 "metadata": {
  "kernelspec": {
   "display_name": ".NET (C#)",
   "language": "C#",
   "name": ".net-csharp"
  },
  "polyglot_notebook": {
   "kernelInfo": {
    "defaultKernelName": "csharp",
    "items": [
     {
      "aliases": [
       "c#",
       "C#"
      ],
      "languageName": "C#",
      "name": "csharp"
     },
     {
      "aliases": [],
      "name": ".NET"
     },
     {
      "aliases": [
       "f#",
       "F#"
      ],
      "languageName": "F#",
      "name": "fsharp"
     },
     {
      "aliases": [],
      "languageName": "HTML",
      "name": "html"
     },
     {
      "aliases": [
       "js"
      ],
      "languageName": "JavaScript",
      "name": "javascript"
     },
     {
      "aliases": [],
      "languageName": "KQL",
      "name": "kql"
     },
     {
      "aliases": [],
      "languageName": "Mermaid",
      "name": "mermaid"
     },
     {
      "aliases": [
       "powershell"
      ],
      "languageName": "PowerShell",
      "name": "pwsh"
     },
     {
      "aliases": [],
      "languageName": "SQL",
      "name": "sql"
     },
     {
      "aliases": [],
      "name": "value"
     },
     {
      "aliases": [
       "frontend"
      ],
      "name": "vscode"
     },
     {
      "aliases": [],
      "name": "webview"
     }
    ]
   }
  }
 },
 "nbformat": 4,
 "nbformat_minor": 2
}
