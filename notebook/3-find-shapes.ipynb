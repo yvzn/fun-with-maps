{
 "cells": [
  {
   "attachments": {},
   "cell_type": "markdown",
   "metadata": {
    "dotnet_interactive": {
     "language": "csharp"
    },
    "polyglot_notebook": {
     "kernelName": "csharp"
    }
   },
   "source": [
    "# Fun with maps, part 3\n",
    "\n",
    "After map images have been filtered, run *object detection* to find interesting shapes."
   ]
  },
  {
   "attachments": {},
   "cell_type": "markdown",
   "metadata": {
    "dotnet_interactive": {
     "language": "csharp"
    },
    "polyglot_notebook": {
     "kernelName": "csharp"
    }
   },
   "source": [
    "# Dependencies"
   ]
  },
  {
   "cell_type": "code",
   "execution_count": 3,
   "metadata": {
    "dotnet_interactive": {
     "language": "csharp"
    },
    "polyglot_notebook": {
     "kernelName": "csharp"
    },
    "vscode": {
     "languageId": "polyglot-notebook"
    }
   },
   "outputs": [
    {
     "data": {
      "text/html": [
       "<div><div></div><div></div><div><strong>Installed Packages</strong><ul><li><span>Microsoft.Azure.CognitiveServices.Vision.ComputerVision, 7.0.1</span></li></ul></div></div>"
      ]
     },
     "metadata": {},
     "output_type": "display_data"
    }
   ],
   "source": [
    "#r \"nuget: Microsoft.Azure.CognitiveServices.Vision.ComputerVision\""
   ]
  },
  {
   "cell_type": "code",
   "execution_count": 4,
   "metadata": {
    "dotnet_interactive": {
     "language": "csharp"
    },
    "polyglot_notebook": {
     "kernelName": "csharp"
    },
    "vscode": {
     "languageId": "polyglot-notebook"
    }
   },
   "outputs": [],
   "source": [
    "using System.IO;\n",
    "using Microsoft.Azure.CognitiveServices.Vision.ComputerVision;\n",
    "using Microsoft.Azure.CognitiveServices.Vision.ComputerVision.Models;\n",
    "\n",
    "using static Microsoft.DotNet.Interactive.Formatting.PocketViewTags;\n",
    "\n",
    "var random = new Random();"
   ]
  },
  {
   "attachments": {},
   "cell_type": "markdown",
   "metadata": {
    "dotnet_interactive": {
     "language": "csharp"
    },
    "polyglot_notebook": {
     "kernelName": "csharp"
    }
   },
   "source": [
    "## Step 3: Run object detection on images\n",
    "\n",
    "The project will be using [Azure computer vision](https://learn.microsoft.com/en-us/azure/cognitive-services/computer-vision/) service to try and detect object shapes.\n",
    "\n",
    "### Configuration\n",
    "\n",
    "Create an [Azure computer vision account](https://learn.microsoft.com/en-us/azure/cognitive-services/computer-vision/quickstarts-sdk/image-analysis-client-library#prerequisites) and get the primary key and endpoint for that account."
   ]
  },
  {
   "cell_type": "code",
   "execution_count": 1,
   "metadata": {
    "dotnet_interactive": {
     "language": "csharp"
    },
    "polyglot_notebook": {
     "kernelName": "csharp"
    },
    "vscode": {
     "languageId": "polyglot-notebook"
    }
   },
   "outputs": [],
   "source": [
    "var azureComputerVisionEndpoint = \"<your-account-endpoint>\";\n",
    "var azureComputerVisionApiKey = \"<your-account-api-key>\";\n"
   ]
  },
  {
   "attachments": {},
   "cell_type": "markdown",
   "metadata": {
    "dotnet_interactive": {
     "language": "csharp"
    },
    "polyglot_notebook": {
     "kernelName": "csharp"
    }
   },
   "source": [
    " ### List images from Step 2"
   ]
  },
  {
   "cell_type": "code",
   "execution_count": 5,
   "metadata": {
    "dotnet_interactive": {
     "language": "csharp"
    },
    "polyglot_notebook": {
     "kernelName": "csharp"
    },
    "vscode": {
     "languageId": "polyglot-notebook"
    }
   },
   "outputs": [
    {
     "data": {
      "text/plain": [
       "13 source images found, displaying name of first 10"
      ]
     },
     "metadata": {},
     "output_type": "display_data"
    },
    {
     "data": {
      "text/html": [
       "<table><thead><tr><th><i>index</i></th><th>value</th></tr></thead><tbody><tr><td>0</td><td>output/step2/7__-44.09199878518183__-10.70419321897623.png</td></tr><tr><td>1</td><td>output/step2/10__-64.55468161335037__-2.9182961324561205.png</td></tr><tr><td>2</td><td>output/step2/7__16.61484365251573__65.75746996780518.png</td></tr><tr><td>3</td><td>output/step2/5__10.463813197673034__28.507208398236116.png</td></tr><tr><td>4</td><td>output/step2/5__-65.46187477452636__55.55732591265934.png</td></tr><tr><td>5</td><td>output/step2/7__99.49382073425818__47.227614216918255.png</td></tr><tr><td>6</td><td>output/step2/7__-78.42469881663138__51.12085327304665.png</td></tr><tr><td>7</td><td>output/step2/6__-50.39518539971667__-13.357418071831276.png</td></tr><tr><td>8</td><td>output/step2/12__-55.786226002796795__-24.292396693042583.png</td></tr><tr><td>9</td><td>output/step2/5__36.77104961194604__16.00206824991065.png</td></tr></tbody></table><style>\r\n",
       ".dni-code-hint {\r\n",
       "    font-style: italic;\r\n",
       "    overflow: hidden;\r\n",
       "    white-space: nowrap;\r\n",
       "}\r\n",
       ".dni-treeview {\r\n",
       "    white-space: nowrap;\r\n",
       "}\r\n",
       ".dni-treeview td {\r\n",
       "    vertical-align: top;\r\n",
       "    text-align: start;\r\n",
       "}\r\n",
       "details.dni-treeview {\r\n",
       "    padding-left: 1em;\r\n",
       "}\r\n",
       "table td {\r\n",
       "    text-align: start;\r\n",
       "}\r\n",
       "table tr { \r\n",
       "    vertical-align: top; \r\n",
       "    margin: 0em 0px;\r\n",
       "}\r\n",
       "table tr td pre \r\n",
       "{ \r\n",
       "    vertical-align: top !important; \r\n",
       "    margin: 0em 0px !important;\r\n",
       "} \r\n",
       "table th {\r\n",
       "    text-align: start;\r\n",
       "}\r\n",
       "</style>"
      ]
     },
     "metadata": {},
     "output_type": "display_data"
    }
   ],
   "source": [
    "var sourceImageFolder = \"output/step2\";\n",
    "\n",
    "var sourceImages = Directory.GetFiles(sourceImageFolder).Where(file => file.EndsWith(\"png\")).ToList();\n",
    "\n",
    "display($\"{sourceImages.Count} source images found, displaying name of first 10\");\n",
    "display(sourceImages.Take(10));"
   ]
  },
  {
   "attachments": {},
   "cell_type": "markdown",
   "metadata": {
    "dotnet_interactive": {
     "language": "csharp"
    },
    "polyglot_notebook": {
     "kernelName": "csharp"
    }
   },
   "source": [
    "### Authenticate with Azure computer vision"
   ]
  },
  {
   "cell_type": "code",
   "execution_count": 6,
   "metadata": {
    "dotnet_interactive": {
     "language": "csharp"
    },
    "polyglot_notebook": {
     "kernelName": "csharp"
    },
    "vscode": {
     "languageId": "polyglot-notebook"
    }
   },
   "outputs": [],
   "source": [
    "var computerVisionClient = new ComputerVisionClient(\n",
    "\tnew ApiKeyServiceClientCredentials(azureComputerVisionApiKey))\n",
    "\t{\n",
    "\t\tEndpoint = azureComputerVisionEndpoint\n",
    "\t};"
   ]
  },
  {
   "attachments": {},
   "cell_type": "markdown",
   "metadata": {
    "dotnet_interactive": {
     "language": "csharp"
    },
    "polyglot_notebook": {
     "kernelName": "csharp"
    }
   },
   "source": [
    "## Analyze image\n",
    "\n",
    "Configure the features to be extracted from the image. "
   ]
  },
  {
   "cell_type": "code",
   "execution_count": 7,
   "metadata": {
    "dotnet_interactive": {
     "language": "csharp"
    },
    "polyglot_notebook": {
     "kernelName": "csharp"
    },
    "vscode": {
     "languageId": "polyglot-notebook"
    }
   },
   "outputs": [],
   "source": [
    "var visualFeatureTypes = new List<VisualFeatureTypes?>()\n",
    "{\n",
    "\tVisualFeatureTypes.Objects\n",
    "};"
   ]
  },
  {
   "attachments": {},
   "cell_type": "markdown",
   "metadata": {
    "dotnet_interactive": {
     "language": "csharp"
    },
    "polyglot_notebook": {
     "kernelName": "csharp"
    }
   },
   "source": [
    "Then load an image in memory and run *object detection* on that image with the selected features.\n"
   ]
  },
  {
   "cell_type": "code",
   "execution_count": 30,
   "metadata": {
    "dotnet_interactive": {
     "language": "csharp"
    },
    "polyglot_notebook": {
     "kernelName": "csharp"
    },
    "vscode": {
     "languageId": "polyglot-notebook"
    }
   },
   "outputs": [],
   "source": [
    "var someImage = sourceImages.Skip(random.Next(sourceImages.Count)).First();\n",
    "\n",
    "ImageAnalysis results;\n",
    "using (var imageStream = new FileStream(someImage, FileMode.Open)) {\n",
    "\tresults = await computerVisionClient.AnalyzeImageInStreamAsync(imageStream, visualFeatures: visualFeatureTypes);\n",
    "}"
   ]
  },
  {
   "cell_type": "code",
   "execution_count": 31,
   "metadata": {
    "dotnet_interactive": {
     "language": "csharp"
    },
    "polyglot_notebook": {
     "kernelName": "csharp"
    },
    "vscode": {
     "languageId": "polyglot-notebook"
    }
   },
   "outputs": [
    {
     "data": {
      "text/html": [
       "<table><caption>output/step2/5__-65.46187477452636__55.55732591265934.png</caption><tr><td><img src=\"data:image/png;base64,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\" width=\"50%\"></img></td><td><table><thead><tr><th><i>index</i></th><th>Rectangle</th><th>ObjectProperty</th><th>Confidence</th><th>Parent</th></tr></thead><tbody><tr><td>0</td><td><table><thead><tr><th>X</th><th>Y</th><th>W</th><th>H</th></tr></thead><tbody><tr><td><div class=\"dni-plaintext\"><pre>1</pre></div></td><td><div class=\"dni-plaintext\"><pre>0</pre></div></td><td><div class=\"dni-plaintext\"><pre>254</pre></div></td><td><div class=\"dni-plaintext\"><pre>256</pre></div></td></tr></tbody></table></td><td>Office supplies</td><td><div class=\"dni-plaintext\"><pre>0.584</pre></div></td><td><div class=\"dni-plaintext\"><pre>&lt;null&gt;</pre></div></td></tr></tbody></table></td></tr></table><style>\r\n",
       ".dni-code-hint {\r\n",
       "    font-style: italic;\r\n",
       "    overflow: hidden;\r\n",
       "    white-space: nowrap;\r\n",
       "}\r\n",
       ".dni-treeview {\r\n",
       "    white-space: nowrap;\r\n",
       "}\r\n",
       ".dni-treeview td {\r\n",
       "    vertical-align: top;\r\n",
       "    text-align: start;\r\n",
       "}\r\n",
       "details.dni-treeview {\r\n",
       "    padding-left: 1em;\r\n",
       "}\r\n",
       "table td {\r\n",
       "    text-align: start;\r\n",
       "}\r\n",
       "table tr { \r\n",
       "    vertical-align: top; \r\n",
       "    margin: 0em 0px;\r\n",
       "}\r\n",
       "table tr td pre \r\n",
       "{ \r\n",
       "    vertical-align: top !important; \r\n",
       "    margin: 0em 0px !important;\r\n",
       "} \r\n",
       "table th {\r\n",
       "    text-align: start;\r\n",
       "}\r\n",
       "</style>"
      ]
     },
     "metadata": {},
     "output_type": "display_data"
    }
   ],
   "source": [
    "display(\n",
    "\ttable(\n",
    "\t\tcaption(someImage),\n",
    "\t\ttr(\n",
    "\t\t\ttd(img[src: \"data:image/png;base64,\" + Convert.ToBase64String(File.ReadAllBytes(someImage)), width: \"50%\"]),\n",
    "\t\t\ttd(results.Objects)\n",
    "\t\t)\n",
    "\t)\n",
    ")"
   ]
  }
 ],
 "metadata": {
  "kernelspec": {
   "display_name": ".NET (C#)",
   "language": "C#",
   "name": ".net-csharp"
  },
  "polyglot_notebook": {
   "kernelInfo": {
    "defaultKernelName": "csharp",
    "items": [
     {
      "aliases": [
       "c#",
       "C#"
      ],
      "languageName": "C#",
      "name": "csharp"
     },
     {
      "aliases": [],
      "name": ".NET"
     },
     {
      "aliases": [
       "frontend"
      ],
      "name": "vscode"
     },
     {
      "aliases": [
       "f#",
       "F#"
      ],
      "languageName": "F#",
      "name": "fsharp"
     },
     {
      "aliases": [],
      "languageName": "HTML",
      "name": "html"
     },
     {
      "aliases": [
       "js"
      ],
      "languageName": "JavaScript",
      "name": "javascript"
     },
     {
      "aliases": [],
      "languageName": "KQL",
      "name": "kql"
     },
     {
      "aliases": [],
      "languageName": "Mermaid",
      "name": "mermaid"
     },
     {
      "aliases": [
       "powershell"
      ],
      "languageName": "PowerShell",
      "name": "pwsh"
     },
     {
      "aliases": [],
      "languageName": "SQL",
      "name": "sql"
     },
     {
      "aliases": [],
      "name": "value"
     },
     {
      "aliases": [],
      "name": "webview"
     }
    ]
   }
  }
 },
 "nbformat": 4,
 "nbformat_minor": 2
}
